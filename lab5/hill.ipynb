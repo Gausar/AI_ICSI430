{
 "cells": [
  {
   "cell_type": "code",
   "execution_count": 7,
   "metadata": {},
   "outputs": [],
   "source": [
    "import matplotlib.pyplot as plt\n",
    "import networkx as nx"
   ]
  },
  {
   "cell_type": "code",
   "execution_count": 8,
   "metadata": {},
   "outputs": [],
   "source": [
    "data = {\n",
    "    'nodes': ['Ulaanbaatar', 'Erdenet', 'Darkhan', 'Choibalsan', 'Murun', 'Khovd', 'Ulgii', 'Bayankhongor', 'Dalanzadgad', 'Altai'],\n",
    "    'edges': [\n",
    "        ('Ulaanbaatar', 'Erdenet', {'weight': 231}),\n",
    "        ('Ulaanbaatar', 'Darkhan', {'weight': 142}),\n",
    "        ('Ulaanbaatar', 'Choibalsan', {'weight': 198}),\n",
    "        ('Ulaanbaatar', 'Murun', {'weight': 96}),\n",
    "        ('Ulaanbaatar', 'Khovd', {'weight': 199}),\n",
    "        ('Ulaanbaatar', 'Ulgii', {'weight': 218}),\n",
    "        ('Ulaanbaatar', 'Bayankhongor', {'weight': 210}),\n",
    "        ('Ulaanbaatar', 'Dalanzadgad', {'weight': 140}),\n",
    "        ('Ulaanbaatar', 'Altai', {'weight': 297}),\n",
    "        ('Erdenet', 'Darkhan', {'weight': 290}),\n",
    "        ('Erdenet', 'Choibalsan', {'weight': 185}),\n",
    "        ('Erdenet', 'Murun', {'weight': 253}),\n",
    "        ('Erdenet', 'Khovd', {'weight': 262}),\n",
    "        ('Erdenet', 'Ulgii', {'weight': 242}),\n",
    "        ('Erdenet', 'Bayankhongor', {'weight': 264}),\n",
    "        ('Erdenet', 'Dalanzadgad', {'weight': 246}),\n",
    "        ('Erdenet', 'Altai', {'weight': 186}),\n",
    "        ('Darkhan', 'Choibalsan', {'weight': 151}),\n",
    "        ('Darkhan', 'Murun', {'weight': 93}),\n",
    "        ('Darkhan', 'Khovd', {'weight': 85}),\n",
    "        ('Darkhan', 'Ulgii', {'weight': 229}),\n",
    "        ('Darkhan', 'Bayankhongor', {'weight': 157}),\n",
    "        ('Darkhan', 'Dalanzadgad', {'weight': 221}),\n",
    "        ('Darkhan', 'Altai', {'weight': 152}),\n",
    "        ('Choibalsan', 'Murun', {'weight': 56}),\n",
    "        ('Choibalsan', 'Khovd', {'weight': 137}),\n",
    "        ('Choibalsan', 'Ulgii', {'weight': 99}),\n",
    "        ('Choibalsan', 'Bayankhongor', {'weight': 130}),\n",
    "        ('Choibalsan', 'Dalanzadgad', {'weight': 126}),\n",
    "        ('Choibalsan', 'Altai', {'weight': 55}),\n",
    "        ('Murun', 'Khovd', {'weight': 111}),\n",
    "        ('Murun', 'Ulgii', {'weight': 299}),\n",
    "        ('Murun', 'Bayankhongor', {'weight': 290}),\n",
    "        ('Murun', 'Dalanzadgad', {'weight': 260}),\n",
    "        ('Murun', 'Altai', {'weight': 231}),\n",
    "        ('Khovd', 'Ulgii', {'weight': 150}),\n",
    "        ('Khovd', 'Bayankhongor', {'weight': 115}),\n",
    "        ('Khovd', 'Dalanzadgad', {'weight': 296}),\n",
    "        ('Khovd', 'Altai', {'weight': 130}),\n",
    "        ('Ulgii', 'Bayankhongor', {'weight': 232}),\n",
    "        ('Ulgii', 'Dalanzadgad', {'weight': 299}),\n",
    "        ('Ulgii', 'Altai', {'weight': 229}),\n",
    "        ('Bayankhongor', 'Dalanzadgad', {'weight': 195}),\n",
    "        ('Bayankhongor', 'Altai', {'weight': 262}),\n",
    "        ('Dalanzadgad', 'Altai', {'weight': 263})\n",
    "    ]\n",
    "}"
   ]
  },
  {
   "cell_type": "code",
   "execution_count": 9,
   "metadata": {},
   "outputs": [],
   "source": [
    "G = nx.Graph()\n",
    "G.add_nodes_from(data['nodes'])\n",
    "for u, v, attr in data['edges']:\n",
    "    G.add_edge(u, v, **attr)\n",
    "    G.add_edge(v, u, **attr) "
   ]
  },
  {
   "cell_type": "code",
   "execution_count": 4,
   "metadata": {},
   "outputs": [
    {
     "data": {
      "text/plain": [
       "<networkx.classes.graph.Graph at 0x16a7f4e5450>"
      ]
     },
     "execution_count": 4,
     "metadata": {},
     "output_type": "execute_result"
    }
   ],
   "source": [
    "G"
   ]
  },
  {
   "cell_type": "markdown",
   "metadata": {},
   "source": [
    "Hill-Climbing"
   ]
  },
  {
   "cell_type": "code",
   "execution_count": 5,
   "metadata": {},
   "outputs": [
    {
     "name": "stdout",
     "output_type": "stream",
     "text": [
      "Hill-Climbing\n",
      "Tour: ['Ulaanbaatar', 'Erdenet', 'Altai', 'Choibalsan', 'Ulgii', 'Khovd', 'Murun', 'Darkhan', 'Bayankhongor', 'Dalanzadgad']\n",
      "Distance: 1417\n"
     ]
    }
   ],
   "source": [
    "def calculate_total_distance(tour, G):\n",
    "    total_distance = 0\n",
    "    for i in range(len(tour) - 1):\n",
    "        total_distance += G[tour[i]][tour[i + 1]]['weight']\n",
    "    total_distance += G[tour[-1]]['Ulaanbaatar']['weight']\n",
    "    return total_distance\n",
    "def hill_climbing(G, init_tour):\n",
    "    current_tour = init_tour[:]\n",
    "    current_distance = calculate_total_distance(current_tour, G)\n",
    "\n",
    "    while True:\n",
    "        neighbors = []\n",
    "\n",
    "        for i in range(1, len(current_tour) - 1):\n",
    "            for j in range(i + 1, len(current_tour)):\n",
    "                neighbor = current_tour[:]\n",
    "                neighbor[i], neighbor[j] = neighbor[j], neighbor[i] \n",
    "                neighbors.append(neighbor)\n",
    "\n",
    "        best_neighbor = None\n",
    "        best_distance = current_distance\n",
    "\n",
    "        for neighbor in neighbors:\n",
    "            distance = calculate_total_distance(neighbor, G)\n",
    "            if distance < best_distance:\n",
    "                best_distance = distance\n",
    "                best_neighbor = neighbor\n",
    "\n",
    "        if best_neighbor is None:\n",
    "            break\n",
    "\n",
    "        current_tour = best_neighbor\n",
    "        current_distance = best_distance\n",
    "\n",
    "    return current_tour, current_distance\n",
    "\n",
    "init_tour = ['Ulaanbaatar'] + data['nodes'][1:]\n",
    "\n",
    "best_tour, best_distance = hill_climbing(G, init_tour)\n",
    "\n",
    "print(\"Hill-Climbing\")\n",
    "print(\"Tour:\", best_tour)\n",
    "print(\"Distance:\", best_distance)"
   ]
  },
  {
   "cell_type": "code",
   "execution_count": null,
   "metadata": {},
   "outputs": [],
   "source": []
  }
 ],
 "metadata": {
  "kernelspec": {
   "display_name": "Python 3",
   "language": "python",
   "name": "python3"
  },
  "language_info": {
   "codemirror_mode": {
    "name": "ipython",
    "version": 3
   },
   "file_extension": ".py",
   "mimetype": "text/x-python",
   "name": "python",
   "nbconvert_exporter": "python",
   "pygments_lexer": "ipython3",
   "version": "3.11.4"
  },
  "orig_nbformat": 4
 },
 "nbformat": 4,
 "nbformat_minor": 2
}
